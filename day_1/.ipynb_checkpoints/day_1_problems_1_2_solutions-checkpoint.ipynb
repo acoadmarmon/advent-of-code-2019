{
 "cells": [
  {
   "cell_type": "code",
   "execution_count": 2,
   "metadata": {},
   "outputs": [],
   "source": [
    "## Part 1\n",
    "masses_of_crafts = [103842,72629,121232,120959,94285,85852,78876,93545,136775,111893,112863,61947,52671,122769,90995,106037,106618,144212,125766,56163,125865,87828,117596,118778,131537,131498,81583,111443,139184,101980,114117,76003,99157,93721,106494,66654,73954,85815,139358,78163,144753,58928,137799,75580,115861,131718,145985,61232,139664,123931,101512,107532,119323,54937,82412,149218,98531,122318,138890,59125,111176,97205,52214,84531,115983,69976,125186,142852,66808,81689,62885,126094,86092,59981,54868,142381,92384,121232,96994,93489,141201,108497,64092,101991,137907,63230,55724,126888,70665,111235,123493,148071,147590,113936,57270,127204,144599,56041,62105,124342]"
   ]
  },
  {
   "cell_type": "code",
   "execution_count": 3,
   "metadata": {},
   "outputs": [
    {
     "data": {
      "text/plain": [
       "3406432"
      ]
     },
     "execution_count": 3,
     "metadata": {},
     "output_type": "execute_result"
    }
   ],
   "source": [
    "import math\n",
    "\n",
    "fuel_for_crafts = [int(math.floor(i/3) - 2) for i in masses_of_crafts]\n",
    "total_fuel = sum(fuel_for_crafts)\n",
    "total_fuel"
   ]
  },
  {
   "cell_type": "code",
   "execution_count": 11,
   "metadata": {},
   "outputs": [
    {
     "data": {
      "text/plain": [
       "5106777"
      ]
     },
     "execution_count": 11,
     "metadata": {},
     "output_type": "execute_result"
    }
   ],
   "source": [
    "## Part 2\n",
    "def get_all_fuel(curr_masses, total_fuel):\n",
    "    if len(curr_masses) == 0:\n",
    "        return total_fuel\n",
    "    fuels_required = [int(math.floor(i/3) - 2) for i in curr_masses if int(math.floor(i/3) - 2) > 0]\n",
    "    return get_all_fuel(fuels_required, total_fuel + sum(fuels_required))\n",
    "    \n",
    "get_all_fuel(masses_of_crafts, 0)"
   ]
  },
  {
   "cell_type": "code",
   "execution_count": null,
   "metadata": {},
   "outputs": [],
   "source": []
  }
 ],
 "metadata": {
  "kernelspec": {
   "display_name": "Python 3",
   "language": "python",
   "name": "python3"
  },
  "language_info": {
   "codemirror_mode": {
    "name": "ipython",
    "version": 3
   },
   "file_extension": ".py",
   "mimetype": "text/x-python",
   "name": "python",
   "nbconvert_exporter": "python",
   "pygments_lexer": "ipython3",
   "version": "3.6.8"
  }
 },
 "nbformat": 4,
 "nbformat_minor": 2
}
