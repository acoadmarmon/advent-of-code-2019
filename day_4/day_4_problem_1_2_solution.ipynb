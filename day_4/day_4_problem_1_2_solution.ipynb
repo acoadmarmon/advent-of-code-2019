{
 "cells": [
  {
   "cell_type": "code",
   "execution_count": 23,
   "metadata": {},
   "outputs": [
    {
     "data": {
      "text/plain": [
       "750"
      ]
     },
     "execution_count": 23,
     "metadata": {},
     "output_type": "execute_result"
    }
   ],
   "source": [
    "def satisfies_condition(number, part_number='part_1'):\n",
    "    ascending = True\n",
    "    double = False\n",
    "    \n",
    "    number_list = [int(d) for d in str(number)]\n",
    "    for i in range(len(number_list) - 1):\n",
    "        if number_list[i] > number_list[i + 1]:\n",
    "            ascending = False\n",
    "    if part_number == 'part_1':\n",
    "        return ascending and any([i >= 2 for i in Counter(number_list).values()])\n",
    "    else:\n",
    "        return ascending and any([i == 2 for i in Counter(number_list).values()])\n",
    "\n",
    "def driver(lower, upper, part_number='part_1'):\n",
    "    number_of_truths = 0\n",
    "    for i in range(lower, upper):\n",
    "        number_of_truths = number_of_truths + int(satisfies_condition(i, part_number=part_number))\n",
    "    return number_of_truths\n",
    "driver(240920, 789857, 'part_2')"
   ]
  },
  {
   "cell_type": "code",
   "execution_count": null,
   "metadata": {},
   "outputs": [],
   "source": []
  }
 ],
 "metadata": {
  "kernelspec": {
   "display_name": "Python 3",
   "language": "python",
   "name": "python3"
  },
  "language_info": {
   "codemirror_mode": {
    "name": "ipython",
    "version": 3
   },
   "file_extension": ".py",
   "mimetype": "text/x-python",
   "name": "python",
   "nbconvert_exporter": "python",
   "pygments_lexer": "ipython3",
   "version": "3.6.8"
  }
 },
 "nbformat": 4,
 "nbformat_minor": 2
}
