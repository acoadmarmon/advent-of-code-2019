{
 "cells": [
  {
   "cell_type": "code",
   "execution_count": 41,
   "metadata": {},
   "outputs": [],
   "source": [
    "intcode_program = [3,8,1001,8,10,8,105,1,0,0,21,34,47,72,93,110,191,272,353,434,99999,3,9,102,3,9,9,1001,9,3,9,4,9,99,3,9,102,4,9,9,1001,9,4,9,4,9,99,3,9,101,3,9,9,1002,9,3,9,1001,9,2,9,1002,9,2,9,101,4,9,9,4,9,99,3,9,1002,9,3,9,101,5,9,9,102,4,9,9,1001,9,4,9,4,9,99,3,9,101,3,9,9,102,4,9,9,1001,9,3,9,4,9,99,3,9,101,2,9,9,4,9,3,9,1001,9,2,9,4,9,3,9,101,2,9,9,4,9,3,9,1002,9,2,9,4,9,3,9,102,2,9,9,4,9,3,9,1002,9,2,9,4,9,3,9,102,2,9,9,4,9,3,9,101,1,9,9,4,9,3,9,1002,9,2,9,4,9,3,9,1002,9,2,9,4,9,99,3,9,102,2,9,9,4,9,3,9,1002,9,2,9,4,9,3,9,102,2,9,9,4,9,3,9,1002,9,2,9,4,9,3,9,1001,9,1,9,4,9,3,9,1001,9,2,9,4,9,3,9,102,2,9,9,4,9,3,9,101,1,9,9,4,9,3,9,1001,9,1,9,4,9,3,9,101,2,9,9,4,9,99,3,9,1001,9,1,9,4,9,3,9,1001,9,2,9,4,9,3,9,101,2,9,9,4,9,3,9,101,2,9,9,4,9,3,9,1001,9,1,9,4,9,3,9,1001,9,1,9,4,9,3,9,1001,9,1,9,4,9,3,9,102,2,9,9,4,9,3,9,101,2,9,9,4,9,3,9,1001,9,2,9,4,9,99,3,9,1002,9,2,9,4,9,3,9,1001,9,2,9,4,9,3,9,102,2,9,9,4,9,3,9,1002,9,2,9,4,9,3,9,102,2,9,9,4,9,3,9,101,2,9,9,4,9,3,9,1002,9,2,9,4,9,3,9,1001,9,2,9,4,9,3,9,102,2,9,9,4,9,3,9,1002,9,2,9,4,9,99,3,9,101,1,9,9,4,9,3,9,101,1,9,9,4,9,3,9,101,2,9,9,4,9,3,9,102,2,9,9,4,9,3,9,1001,9,2,9,4,9,3,9,101,1,9,9,4,9,3,9,102,2,9,9,4,9,3,9,1001,9,1,9,4,9,3,9,101,1,9,9,4,9,3,9,1002,9,2,9,4,9,99]"
   ]
  },
  {
   "cell_type": "code",
   "execution_count": 116,
   "metadata": {},
   "outputs": [],
   "source": [
    "from collections import deque\n",
    "intcode_outputs = {5: deque(), 6: deque(), 7: deque(), 8: deque(), 9: deque()}\n",
    "\n",
    "def get_val(arr, position, parameter=0):\n",
    "    if parameter:\n",
    "        return arr[position]\n",
    "    else:\n",
    "        return arr[arr[position]]\n",
    "\n",
    "def intcode_parser(arr, pos, phase_setting, dependency, first_run, first_producer, consume, produce):\n",
    "    op = arr[pos]\n",
    "    parameters = (0, 0, 0)\n",
    "    if op > 99:\n",
    "        parameters = ((op // 100) % 10, (op // 1000) % 10, (op // 10000) % 10)\n",
    "        op = op % 100\n",
    "        #print(parameters)\n",
    "        \n",
    "    if op == 99:\n",
    "        return True\n",
    "    elif op == 1:\n",
    "        arr[arr[pos + 3]] = get_val(arr, pos + 1, parameters[0]) + get_val(arr, pos + 2, parameters[1])\n",
    "        return intcode_parser(arr, pos + 4, phase_setting, dependency, first_run, first_producer, consume, produce)\n",
    "    elif op == 2:\n",
    "        arr[arr[pos + 3]] = get_val(arr, pos + 1, parameters[0]) * get_val(arr, pos + 2, parameters[1])\n",
    "        return intcode_parser(arr, pos + 4, phase_setting, dependency, first_run, first_producer, consume, produce)\n",
    "    elif op == 3:\n",
    "        if first_run:\n",
    "            arr[arr[pos + 1]] = phase_setting\n",
    "            return intcode_parser(arr, pos + 2, phase_setting, dependency, False, first_producer, consume, produce)\n",
    "        elif not first_run and first_producer:\n",
    "            arr[arr[pos + 1]] = 0\n",
    "            return intcode_parser(arr, pos + 2, phase_setting, dependency, False, False, consume, produce)\n",
    "        else:\n",
    "            with consume:\n",
    "                while len(intcode_outputs[dependency]) == 0:\n",
    "                    consume.wait()\n",
    "                arr[arr[pos + 1]] = intcode_outputs[dependency].popleft()\n",
    "            return intcode_parser(arr, pos + 2, phase_setting, dependency, first_run, first_producer, consume, produce)\n",
    "    elif op == 4:\n",
    "        with produce:\n",
    "            intcode_outputs[phase_setting].append(get_val(arr, pos + 1, parameters[0]))\n",
    "            produce.notifyAll()\n",
    "        return intcode_parser(arr, pos + 2, phase_setting, dependency, first_run, first_producer, consume, produce)\n",
    "    elif op == 5:\n",
    "        if get_val(arr, pos + 1, parameters[0]) != 0:\n",
    "            return intcode_parser(arr, get_val(arr, pos + 2, parameters[1]), phase_setting, dependency, first_run, first_producer, consume, produce)\n",
    "        else:\n",
    "            return intcode_parser(arr, pos + 3, phase_setting, dependency, first_run, first_producer, consume, produce)\n",
    "    elif op == 6:\n",
    "        if get_val(arr, pos + 1, parameters[0]) == 0:\n",
    "            return intcode_parser(arr, get_val(arr, pos + 2, parameters[1]), phase_setting, dependency, first_run, first_producer, consume, produce)\n",
    "        else:\n",
    "            return intcode_parser(arr, pos + 3, phase_setting, dependency, first_run, first_producer, consume, produce)\n",
    "    elif op == 7:\n",
    "        if get_val(arr, pos + 1, parameters[0]) < get_val(arr, pos + 2, parameters[1]):\n",
    "            arr[arr[pos + 3]] = 1\n",
    "        else:\n",
    "            arr[arr[pos + 3]] = 0\n",
    "        return intcode_parser(arr, pos + 4, phase_setting, dependency, first_run, first_producer, consume, produce)\n",
    "    elif op == 8:\n",
    "        if get_val(arr, pos + 1, parameters[0]) == get_val(arr, pos + 2, parameters[1]):\n",
    "            arr[arr[pos + 3]] = 1\n",
    "        else:\n",
    "            arr[arr[pos + 3]] = 0\n",
    "        return intcode_parser(arr, pos + 4, phase_setting, dependency, first_run, first_producer, consume, produce)\n",
    "    else:\n",
    "        print(\"Uknown op code \" + str(op) + \"at position \" + str(pos))\n",
    "        return False"
   ]
  },
  {
   "cell_type": "code",
   "execution_count": 125,
   "metadata": {},
   "outputs": [],
   "source": [
    "from collections import Counter\n",
    "from copy import deepcopy\n",
    "import threading\n",
    "import time\n",
    "import logging\n",
    "\n",
    "logging.basicConfig(level=logging.DEBUG,\n",
    "                    format='(%(threadName)-9s) %(message)s',)\n",
    "\n",
    "\n",
    "intcode_program = [3,8,1001,8,10,8,105,1,0,0,21,34,47,72,93,110,191,272,353,434,99999,3,9,102,3,9,9,1001,9,3,9,4,9,99,3,9,102,4,9,9,1001,9,4,9,4,9,99,3,9,101,3,9,9,1002,9,3,9,1001,9,2,9,1002,9,2,9,101,4,9,9,4,9,99,3,9,1002,9,3,9,101,5,9,9,102,4,9,9,1001,9,4,9,4,9,99,3,9,101,3,9,9,102,4,9,9,1001,9,3,9,4,9,99,3,9,101,2,9,9,4,9,3,9,1001,9,2,9,4,9,3,9,101,2,9,9,4,9,3,9,1002,9,2,9,4,9,3,9,102,2,9,9,4,9,3,9,1002,9,2,9,4,9,3,9,102,2,9,9,4,9,3,9,101,1,9,9,4,9,3,9,1002,9,2,9,4,9,3,9,1002,9,2,9,4,9,99,3,9,102,2,9,9,4,9,3,9,1002,9,2,9,4,9,3,9,102,2,9,9,4,9,3,9,1002,9,2,9,4,9,3,9,1001,9,1,9,4,9,3,9,1001,9,2,9,4,9,3,9,102,2,9,9,4,9,3,9,101,1,9,9,4,9,3,9,1001,9,1,9,4,9,3,9,101,2,9,9,4,9,99,3,9,1001,9,1,9,4,9,3,9,1001,9,2,9,4,9,3,9,101,2,9,9,4,9,3,9,101,2,9,9,4,9,3,9,1001,9,1,9,4,9,3,9,1001,9,1,9,4,9,3,9,1001,9,1,9,4,9,3,9,102,2,9,9,4,9,3,9,101,2,9,9,4,9,3,9,1001,9,2,9,4,9,99,3,9,1002,9,2,9,4,9,3,9,1001,9,2,9,4,9,3,9,102,2,9,9,4,9,3,9,1002,9,2,9,4,9,3,9,102,2,9,9,4,9,3,9,101,2,9,9,4,9,3,9,1002,9,2,9,4,9,3,9,1001,9,2,9,4,9,3,9,102,2,9,9,4,9,3,9,1002,9,2,9,4,9,99,3,9,101,1,9,9,4,9,3,9,101,1,9,9,4,9,3,9,101,2,9,9,4,9,3,9,102,2,9,9,4,9,3,9,1001,9,2,9,4,9,3,9,101,1,9,9,4,9,3,9,102,2,9,9,4,9,3,9,1001,9,1,9,4,9,3,9,101,1,9,9,4,9,3,9,1002,9,2,9,4,9,99]\n",
    "\n",
    "\n",
    "phase_settings = [5, 6, 7, 8, 9]\n",
    "max_power = 0\n",
    "max_configuration = (0, 0, 0, 0, 0)\n",
    "for i in phase_settings:\n",
    "    for j in phase_settings:\n",
    "        for k in phase_settings:\n",
    "            for l in phase_settings:\n",
    "                for m in phase_settings:\n",
    "                    configuration = [m, l, k, j, i]\n",
    "                    if all([i == 1 for i in Counter(configuration).values()]):\n",
    "                        \n",
    "                        condition_ml = threading.Condition()\n",
    "                        condition_lk = threading.Condition()\n",
    "                        condition_kj = threading.Condition()\n",
    "                        condition_ji = threading.Condition()\n",
    "                        condition_im = threading.Condition()\n",
    "\n",
    "\n",
    "                        prgrm_m = threading.Thread(name='program_m', target=intcode_parser, \n",
    "                                                args=(deepcopy(intcode_program), 0, m, i, True, True, condition_im, condition_ml,))\n",
    "                        prgrm_m.start()\n",
    "\n",
    "                        prgrm_l = threading.Thread(name='program_l', target=intcode_parser, \n",
    "                                                args=(deepcopy(intcode_program), 0, l, m, True, False, condition_ml, condition_lk,))\n",
    "                        prgrm_l.start()\n",
    "\n",
    "                        prgrm_k = threading.Thread(name='program_l', target=intcode_parser, \n",
    "                                                args=(deepcopy(intcode_program), 0, k, l, True, False, condition_lk, condition_kj,))\n",
    "                        prgrm_k.start()\n",
    "\n",
    "                        prgrm_j = threading.Thread(name='program_j', target=intcode_parser, \n",
    "                                                args=(deepcopy(intcode_program), 0, j, k, True, False, condition_kj, condition_ji,))\n",
    "                        prgrm_j.start()\n",
    "\n",
    "                        prgrm_i = threading.Thread(name='program_i', target=intcode_parser, \n",
    "                                                args=(deepcopy(intcode_program), 0, i, j, True, False, condition_ji, condition_im,))\n",
    "                        prgrm_i.start()\n",
    "\n",
    "\n",
    "                        prgrm_m.join()\n",
    "                        prgrm_l.join()\n",
    "                        prgrm_k.join()\n",
    "                        prgrm_j.join()\n",
    "                        prgrm_i.join()\n",
    "                        last_e = intcode_outputs[i].popleft()\n",
    "                        if last_e > max_power:\n",
    "                            max_power = last_e\n",
    "                            max_configuration = tuple(configuration)\n",
    "\n",
    "                        intcode_outputs = {5: deque(), 6: deque(), 7: deque(), 8: deque(), 9: deque()}\n"
   ]
  },
  {
   "cell_type": "code",
   "execution_count": 126,
   "metadata": {},
   "outputs": [
    {
     "name": "stdout",
     "output_type": "stream",
     "text": [
      "27561242\n",
      "(7, 9, 5, 8, 6)\n"
     ]
    }
   ],
   "source": [
    "print(max_power)\n",
    "print(max_configuration)"
   ]
  },
  {
   "cell_type": "code",
   "execution_count": 61,
   "metadata": {},
   "outputs": [
    {
     "data": {
      "text/plain": [
       "4257"
      ]
     },
     "execution_count": 61,
     "metadata": {},
     "output_type": "execute_result"
    }
   ],
   "source": []
  },
  {
   "cell_type": "code",
   "execution_count": 20,
   "metadata": {},
   "outputs": [
    {
     "name": "stdout",
     "output_type": "stream",
     "text": [
      "The autoreload extension is already loaded. To reload it, use:\n",
      "  %reload_ext autoreload\n"
     ]
    }
   ],
   "source": [
    "%load_ext autoreload\n",
    "%autoreload 2\n",
    "\n",
    "import sys\n",
    "sys.path.append(\"..\")\n",
    "from intcode import *\n",
    "\n",
    "from collections import Counter\n",
    "from copy import deepcopy\n",
    "import threading\n",
    "import time\n",
    "import logging\n",
    "\n",
    "logging.basicConfig(level=logging.DEBUG,\n",
    "                    format='(%(threadName)-9s) %(message)s',)\n",
    "\n",
    "\n",
    "intcode_program = [3,8,1001,8,10,8,105,1,0,0,21,34,47,72,93,110,191,272,353,434,99999,3,9,102,3,9,9,1001,9,3,9,4,9,99,3,9,102,4,9,9,1001,9,4,9,4,9,99,3,9,101,3,9,9,1002,9,3,9,1001,9,2,9,1002,9,2,9,101,4,9,9,4,9,99,3,9,1002,9,3,9,101,5,9,9,102,4,9,9,1001,9,4,9,4,9,99,3,9,101,3,9,9,102,4,9,9,1001,9,3,9,4,9,99,3,9,101,2,9,9,4,9,3,9,1001,9,2,9,4,9,3,9,101,2,9,9,4,9,3,9,1002,9,2,9,4,9,3,9,102,2,9,9,4,9,3,9,1002,9,2,9,4,9,3,9,102,2,9,9,4,9,3,9,101,1,9,9,4,9,3,9,1002,9,2,9,4,9,3,9,1002,9,2,9,4,9,99,3,9,102,2,9,9,4,9,3,9,1002,9,2,9,4,9,3,9,102,2,9,9,4,9,3,9,1002,9,2,9,4,9,3,9,1001,9,1,9,4,9,3,9,1001,9,2,9,4,9,3,9,102,2,9,9,4,9,3,9,101,1,9,9,4,9,3,9,1001,9,1,9,4,9,3,9,101,2,9,9,4,9,99,3,9,1001,9,1,9,4,9,3,9,1001,9,2,9,4,9,3,9,101,2,9,9,4,9,3,9,101,2,9,9,4,9,3,9,1001,9,1,9,4,9,3,9,1001,9,1,9,4,9,3,9,1001,9,1,9,4,9,3,9,102,2,9,9,4,9,3,9,101,2,9,9,4,9,3,9,1001,9,2,9,4,9,99,3,9,1002,9,2,9,4,9,3,9,1001,9,2,9,4,9,3,9,102,2,9,9,4,9,3,9,1002,9,2,9,4,9,3,9,102,2,9,9,4,9,3,9,101,2,9,9,4,9,3,9,1002,9,2,9,4,9,3,9,1001,9,2,9,4,9,3,9,102,2,9,9,4,9,3,9,1002,9,2,9,4,9,99,3,9,101,1,9,9,4,9,3,9,101,1,9,9,4,9,3,9,101,2,9,9,4,9,3,9,102,2,9,9,4,9,3,9,1001,9,2,9,4,9,3,9,101,1,9,9,4,9,3,9,102,2,9,9,4,9,3,9,1001,9,1,9,4,9,3,9,101,1,9,9,4,9,3,9,1002,9,2,9,4,9,99]\n",
    "\n",
    "intcode_outputs = {5: deque(), 6: deque(), 7: deque(), 8: deque(), 9: deque()}\n",
    "phase_settings = [5, 6, 7, 8, 9]\n",
    "max_power = 0\n",
    "max_configuration = (0, 0, 0, 0, 0)\n",
    "for i in phase_settings:\n",
    "    for j in phase_settings:\n",
    "        for k in phase_settings:\n",
    "            for l in phase_settings:\n",
    "                for m in phase_settings:\n",
    "                    configuration = [m, l, k, j, i]\n",
    "                    if all([i == 1 for i in Counter(configuration).values()]):\n",
    "                        \n",
    "                        condition_ml = threading.Condition()\n",
    "                        condition_lk = threading.Condition()\n",
    "                        condition_kj = threading.Condition()\n",
    "                        condition_ji = threading.Condition()\n",
    "                        condition_im = threading.Condition()\n",
    "\n",
    "                        prgrm_m = threading.Thread(name='program_m', target=init_intcode_run, \n",
    "                                                args=(deepcopy(intcode_program), 0, m, i, intcode_outputs, True, True, condition_im, condition_ml,))\n",
    "                        prgrm_m.start()\n",
    "            \n",
    "                        prgrm_l = threading.Thread(name='program_l', target=init_intcode_run, \n",
    "                                                args=(deepcopy(intcode_program), 0, l, m, intcode_outputs, True, False, condition_ml, condition_lk,))\n",
    "                        prgrm_l.start()\n",
    "\n",
    "                        prgrm_k = threading.Thread(name='program_l', target=init_intcode_run, \n",
    "                                                args=(deepcopy(intcode_program), 0, k, l, intcode_outputs, True, False, condition_lk, condition_kj,))\n",
    "                        prgrm_k.start()\n",
    "\n",
    "                        prgrm_j = threading.Thread(name='program_j', target=init_intcode_run, \n",
    "                                                args=(deepcopy(intcode_program), 0, j, k, intcode_outputs, True, False, condition_kj, condition_ji,))\n",
    "                        prgrm_j.start()\n",
    "\n",
    "                        prgrm_i = threading.Thread(name='program_i', target=init_intcode_run, \n",
    "                                                args=(deepcopy(intcode_program), 0, i, j, intcode_outputs, True, False, condition_ji, condition_im,))\n",
    "                        prgrm_i.start()\n",
    "\n",
    "\n",
    "                        prgrm_m.join()\n",
    "                        prgrm_l.join()\n",
    "                        prgrm_k.join()\n",
    "                        prgrm_j.join()\n",
    "                        prgrm_i.join()\n",
    "                        last_e = intcode_outputs[i].popleft()\n",
    "                        if last_e > max_power:\n",
    "                            max_power = last_e\n",
    "                            max_configuration = tuple(configuration)\n",
    "                        intcode_outputs = {5: deque(), 6: deque(), 7: deque(), 8: deque(), 9: deque()}\n",
    "\n"
   ]
  },
  {
   "cell_type": "code",
   "execution_count": 21,
   "metadata": {},
   "outputs": [
    {
     "name": "stdout",
     "output_type": "stream",
     "text": [
      "27561242\n",
      "(7, 9, 5, 8, 6)\n"
     ]
    }
   ],
   "source": [
    "print(max_power)\n",
    "print(max_configuration)"
   ]
  },
  {
   "cell_type": "code",
   "execution_count": null,
   "metadata": {},
   "outputs": [],
   "source": []
  }
 ],
 "metadata": {
  "kernelspec": {
   "display_name": "Python 3",
   "language": "python",
   "name": "python3"
  },
  "language_info": {
   "codemirror_mode": {
    "name": "ipython",
    "version": 3
   },
   "file_extension": ".py",
   "mimetype": "text/x-python",
   "name": "python",
   "nbconvert_exporter": "python",
   "pygments_lexer": "ipython3",
   "version": "3.6.8"
  }
 },
 "nbformat": 4,
 "nbformat_minor": 2
}
