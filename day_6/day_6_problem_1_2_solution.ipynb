{
 "cells": [
  {
   "cell_type": "code",
   "execution_count": 116,
   "metadata": {},
   "outputs": [],
   "source": [
    "with open(\"input.txt\", \"r\") as myfile:\n",
    "    input_file = [i.rstrip(\"\\n\") for i in myfile.readlines()]"
   ]
  },
  {
   "cell_type": "code",
   "execution_count": 78,
   "metadata": {},
   "outputs": [],
   "source": [
    "def update_depth(node, depth):\n",
    "    if graph[node] is not None:\n",
    "        subsequent_nodes = graph[node]\n",
    "        graph[node] = (graph[node], depth)\n",
    "        for i in subsequent_nodes:\n",
    "            update_depth(i, depth + 1)\n",
    "    else:\n",
    "        graph[node] = (graph[node], depth)   "
   ]
  },
  {
   "cell_type": "code",
   "execution_count": 83,
   "metadata": {},
   "outputs": [],
   "source": [
    "relationships = [tuple(i.split(')')) for i in input_file]\n",
    "\n",
    "graph = {}\n",
    "for i, k in relationships:\n",
    "    if i not in graph.keys():\n",
    "        graph[i] = [k]\n",
    "    else:\n",
    "        graph[i].append(k)\n",
    "\n",
    "for i in list(set([item for sublist in graph.values() for item in sublist]) - set(graph.keys())):\n",
    "    graph[i] = None\n",
    "update_depth('COM', 0)"
   ]
  },
  {
   "cell_type": "code",
   "execution_count": 85,
   "metadata": {},
   "outputs": [
    {
     "data": {
      "text/plain": [
       "621125"
      ]
     },
     "execution_count": 85,
     "metadata": {},
     "output_type": "execute_result"
    }
   ],
   "source": [
    "sum([i[1] for i in graph.values()])"
   ]
  },
  {
   "cell_type": "code",
   "execution_count": 126,
   "metadata": {},
   "outputs": [
    {
     "name": "stdout",
     "output_type": "stream",
     "text": [
      "CNZ\n"
     ]
    },
    {
     "data": {
      "text/plain": [
       "True"
      ]
     },
     "execution_count": 126,
     "metadata": {},
     "output_type": "execute_result"
    }
   ],
   "source": [
    "def san_and_you(node):\n",
    "    if graph[node] is None:\n",
    "        if node == 'YOU':\n",
    "            return True\n",
    "        elif node == 'SAN':\n",
    "            return True\n",
    "        else:\n",
    "            return False\n",
    "    vals = [san_and_you(i) for i in graph[node]]\n",
    "    if sum([int(i) for i in vals]) == 2:\n",
    "        print(node)\n",
    "    return any(vals)\n",
    "    \n",
    "relationships = [tuple(i.split(')')) for i in input_file]\n",
    "graph = {}\n",
    "for i, k in relationships:\n",
    "    if i not in graph.keys():\n",
    "        graph[i] = [k]\n",
    "    else:\n",
    "        graph[i].append(k)\n",
    "\n",
    "for i in list(set([item for sublist in graph.values() for item in sublist]) - set(graph.keys())):\n",
    "    graph[i] = None\n",
    "    \n",
    "san_and_you('COM')"
   ]
  },
  {
   "cell_type": "code",
   "execution_count": 127,
   "metadata": {},
   "outputs": [
    {
     "data": {
      "text/plain": [
       "550"
      ]
     },
     "execution_count": 127,
     "metadata": {},
     "output_type": "execute_result"
    }
   ],
   "source": [
    "update_depth('CNZ', 0)\n",
    "graph['YOU'][1] + graph['SAN'][1] - 2"
   ]
  },
  {
   "cell_type": "code",
   "execution_count": null,
   "metadata": {},
   "outputs": [],
   "source": []
  }
 ],
 "metadata": {
  "kernelspec": {
   "display_name": "Python 3",
   "language": "python",
   "name": "python3"
  },
  "language_info": {
   "codemirror_mode": {
    "name": "ipython",
    "version": 3
   },
   "file_extension": ".py",
   "mimetype": "text/x-python",
   "name": "python",
   "nbconvert_exporter": "python",
   "pygments_lexer": "ipython3",
   "version": "3.6.8"
  }
 },
 "nbformat": 4,
 "nbformat_minor": 2
}
